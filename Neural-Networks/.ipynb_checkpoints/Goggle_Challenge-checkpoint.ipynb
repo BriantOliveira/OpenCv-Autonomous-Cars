{
 "cells": [
  {
   "cell_type": "code",
   "execution_count": null,
   "metadata": {},
   "outputs": [],
   "source": []
  },
  {
   "cell_type": "code",
   "execution_count": 1,
   "metadata": {},
   "outputs": [],
   "source": [
    "\"\"\" \n",
    "1st Challenge - First way of solving \n",
    "\n",
    "Time Complexity: O(N) where N is the total of emails.\n",
    "Space Complexity: O(N)\n",
    "\"\"\"\n",
    "def solution(L):\n",
    "    # write your code in Python 3.6\n",
    "    email_viewed = set()\n",
    "    domains = []\n",
    "    for email in L:\n",
    "        localName, domainName = email.split('@')\n",
    "        if '+' in localName:\n",
    "            localName = localName[:localName.index('+')]\n",
    "        else:\n",
    "            domains.append(domainName)\n",
    "    email_viewed.add(localName.replace('.', '') + '@' + domainName)       \n",
    "    return len(domains) "
   ]
  },
  {
   "cell_type": "code",
   "execution_count": 2,
   "metadata": {},
   "outputs": [
    {
     "data": {
      "text/plain": [
       "3"
      ]
     },
     "execution_count": 2,
     "metadata": {},
     "output_type": "execute_result"
    }
   ],
   "source": [
    "solution(['unique@example.com', 'uni.que@example.com', 'unique+test@example.com', 'unique@anotherexample.com'])"
   ]
  },
  {
   "cell_type": "code",
   "execution_count": 3,
   "metadata": {},
   "outputs": [],
   "source": [
    "\"\"\" \n",
    "1st Challenge - Second way of solving \n",
    "\n",
    "Time Complexity: O(N) where N is the total of emails.\n",
    "Space Complexity: O(N)\n",
    "\"\"\"\n",
    "\n",
    "def solution1(L):\n",
    "    # write your code in Python 3.6\n",
    "    seen = set()\n",
    "    domains = []\n",
    "    domain_already_exist = 1\n",
    "    \n",
    "    # Loop through list of emails\n",
    "    for email in L:\n",
    "        #Split local name and domain name\n",
    "        localName, domainName = email.split('@')\n",
    "        #If the local name has a '+' character, remove it and everything beyond it from the local part.\n",
    "        if '+' in localName:\n",
    "            localName = localName[:localName.index('+')] \n",
    "        # Check is the domain name already exist if it does add 1    \n",
    "        if domainName in domains:\n",
    "            domain_already_exist += 1\n",
    "        \n",
    "        # append domain to a list\n",
    "        domains.append(domainName)\n",
    "        #Store all the unique email (just in case)\n",
    "        seen.add(localName.replace('.', '') + '@' + domainName)\n",
    "        \n",
    "    return domain_already_exist\n"
   ]
  },
  {
   "cell_type": "code",
   "execution_count": 4,
   "metadata": {},
   "outputs": [
    {
     "data": {
      "text/plain": [
       "3"
      ]
     },
     "execution_count": 4,
     "metadata": {},
     "output_type": "execute_result"
    }
   ],
   "source": [
    "solution1(['unique@example.com', 'uni.que@example.com', 'unique+test@example.com', 'unique@anotherexample.com'])"
   ]
  },
  {
   "cell_type": "code",
   "execution_count": 87,
   "metadata": {},
   "outputs": [],
   "source": [
    "\"\"\"\n",
    "2nd Coding Challenge \n",
    "Time Complexity: O(n)\n",
    "\"\"\"\n",
    "\n",
    "def findCuponsPrice(coupons):\n",
    "    # Map: couponValue -> index in coupon\n",
    "    couponIndexMap = {}\n",
    "    #The lowest obtainable max\n",
    "    price = len(coupons) + 1\n",
    "    # Loop through the lenght of the cupons\n",
    "    for i  in range(len(coupons)): # O(n)\n",
    "    # current cupon\n",
    "        coupon = coupons[i]\n",
    "    # check if cupon is in the dictionary\n",
    "        if coupon in couponIndexMap: # Lookup: O(1)\n",
    "            #  if cupon is found subtract current index from the index of the last time cupon was found \n",
    "            price = min(price,i  - couponIndexMap.get(coupon) + 1)\n",
    "    # Adding the cupon to the dict, replacing any repeading cupon\n",
    "        couponIndexMap[coupon] = i\n",
    "    # Check if price has never been updated \n",
    "    if price == len(coupons) + 1:\n",
    "        return -1\n",
    "    return price\n"
   ]
  },
  {
   "cell_type": "code",
   "execution_count": 85,
   "metadata": {},
   "outputs": [
    {
     "data": {
      "text/plain": [
       "-1"
      ]
     },
     "execution_count": 85,
     "metadata": {},
     "output_type": "execute_result"
    }
   ],
   "source": [
    "findCuponsPrice([3, 6, 1, 9])"
   ]
  },
  {
   "cell_type": "code",
   "execution_count": 86,
   "metadata": {},
   "outputs": [
    {
     "data": {
      "text/plain": [
       "4"
      ]
     },
     "execution_count": 86,
     "metadata": {},
     "output_type": "execute_result"
    }
   ],
   "source": [
    "findCuponsPrice([5, 3, 4, 2, 3, 4, 5, 7])"
   ]
  },
  {
   "cell_type": "code",
   "execution_count": null,
   "metadata": {},
   "outputs": [],
   "source": []
  }
 ],
 "metadata": {
  "kernelspec": {
   "display_name": "Python 3",
   "language": "python",
   "name": "python3"
  },
  "language_info": {
   "codemirror_mode": {
    "name": "ipython",
    "version": 3
   },
   "file_extension": ".py",
   "mimetype": "text/x-python",
   "name": "python",
   "nbconvert_exporter": "python",
   "pygments_lexer": "ipython3",
   "version": "3.7.3"
  }
 },
 "nbformat": 4,
 "nbformat_minor": 2
}
